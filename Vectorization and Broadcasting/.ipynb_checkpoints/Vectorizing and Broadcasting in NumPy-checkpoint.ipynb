{
 "cells": [
  {
   "attachments": {},
   "cell_type": "markdown",
   "id": "de4c7ed5",
   "metadata": {},
   "source": [
    "<img src=\"../everything data.png\" width=\"1728\" height=\"864\"/>"
   ]
  },
  {
   "cell_type": "markdown",
   "id": "30a5e602",
   "metadata": {},
   "source": [
    "<h1><center>Vectorizing and Broadcasting in NumPy</center></h1>"
   ]
  },
  {
   "cell_type": "markdown",
   "id": "0f64748d",
   "metadata": {},
   "source": [
    "<h3><center>Tristan Sim</center></h3>\n",
    "<h4><center>26/6/2023</center></h4>"
   ]
  },
  {
   "cell_type": "markdown",
   "id": "f44e58c0",
   "metadata": {},
   "source": [
    "I recently completed Datacamp's <a href=\"\">Introduction to NumPy course</a>, through which I discovered an interesting topic within the subject, Vectorizing operations and Broadcasting. This mini notebook aims to to solidify my understanding on the topic, and hopefully in doing so, explain to those reading what Vectorizing and Broadcasting are, and why they are so powerful."
   ]
  },
  {
   "cell_type": "markdown",
   "id": "37045edd",
   "metadata": {},
   "source": [
    "## Vectorizing"
   ]
  },
  {
   "cell_type": "markdown",
   "id": "267daee1",
   "metadata": {},
   "source": [
    "- Vectorization refers to the process of performing operations on entire arrays or matrices, rather than looping through individual elements like traditional python would. \n",
    "\n",
    "<center><img src=\"vectorization.png\" width=300 height=500/></center>\n",
    "\n",
    "- The efficiency and speed of performing operations with Vectorization leverages on the optimized C-based implementation of NumPy to efficiently execute computations, resulting in faster and more concise code.\n"
   ]
  },
  {
   "cell_type": "markdown",
   "id": "a075e38e",
   "metadata": {},
   "source": [
    "The code below will illustrate the concept of vectorization:"
   ]
  },
  {
   "cell_type": "code",
   "execution_count": 4,
   "id": "3b36967a",
   "metadata": {},
   "outputs": [],
   "source": [
    "import numpy as np"
   ]
  },
  {
   "cell_type": "markdown",
   "id": "4928ef0b",
   "metadata": {},
   "source": [
    "### The problem: "
   ]
  },
  {
   "cell_type": "markdown",
   "id": "a1f62cca",
   "metadata": {},
   "source": [
    "Assume we want to add each element of an array with it's corresponding element in another array. In python, it would look like this: "
   ]
  },
  {
   "cell_type": "code",
   "execution_count": 7,
   "id": "2430d22e",
   "metadata": {},
   "outputs": [
    {
     "name": "stdout",
     "output_type": "stream",
     "text": [
      "[ 6  8 10 12]\n"
     ]
    }
   ],
   "source": [
    "# We want to add each element in array_one with it's corresponding element in array_two (1 + 5, 2 + 6, 3 + 7, 4 + 8)\n",
    "array_one = np.array([1, 2, 3, 4])\n",
    "array_two = np.array([5, 6, 7, 8])\n",
    "\n",
    "# First, we have to create a copy of array_one.\n",
    "array_sum = np.copy(array_one)\n",
    "\n",
    "# Then, we loop through the length array_sum, and use the index to access the elements of array_two\n",
    "for i in range(len(array_sum)):\n",
    "    # Lastly, we add the value of the element of array_two, into array_sum at the same index.\n",
    "    array_sum[i] += array_two[i]\n",
    "    \n",
    "\n",
    "print(array_sum)  # Output: [6 8 10 12]"
   ]
  },
  {
   "cell_type": "markdown",
   "id": "4ff37ff0",
   "metadata": {},
   "source": [
    "- For a relatively simple task, it took several lines of code.\n",
    "- Furthermore, looping through each element and performing addition individually is inefficient and slow."
   ]
  },
  {
   "cell_type": "markdown",
   "id": "339c3816",
   "metadata": {},
   "source": [
    "### The solution: "
   ]
  },
  {
   "cell_type": "markdown",
   "id": "11085673",
   "metadata": {},
   "source": [
    "To solve this issue, we leverage the optimized low-level implementations in NumPy, typically written in C, which can perform the addition operation on entire arrays in a highly efficient manner."
   ]
  },
  {
   "cell_type": "code",
   "execution_count": 8,
   "id": "eeb04de3",
   "metadata": {},
   "outputs": [
    {
     "name": "stdout",
     "output_type": "stream",
     "text": [
      "[ 6  8 10 12]\n"
     ]
    }
   ],
   "source": [
    "# As simple as one line, we recreated what we did previously in Python.\n",
    "print(array_one + array_two)"
   ]
  },
  {
   "cell_type": "markdown",
   "id": "4bf01493",
   "metadata": {},
   "source": [
    "You can see how much more readable our code became after utilizing Vectorized Operations. Moreover, the increased efficiency vectorized operators showcase is another reason to leverage NumPy."
   ]
  },
  {
   "cell_type": "markdown",
   "id": "f304d176",
   "metadata": {},
   "source": [
    "## Broadcasting"
   ]
  },
  {
   "cell_type": "markdown",
   "id": "12dd09c4",
   "metadata": {},
   "source": [
    "As shown in Vectorization, arithmetic operations on arrays are usually done on corresponding elements \n",
    "\n",
    "<h3><center>$ \n",
    "A([1, 2, 3]) + B([1, 2, 3]) = [(A_1 + B_1) , (A_2 + B_2) , (A_3 + B_3)]\n",
    "$</center></h3>\n",
    "\n",
    "What if these arrays have different shapes? That's where Broadcasting comes in."
   ]
  },
  {
   "cell_type": "markdown",
   "id": "60797069",
   "metadata": {},
   "source": [
    "### How it works:"
   ]
  },
  {
   "attachments": {},
   "cell_type": "markdown",
   "id": "a3ff298c",
   "metadata": {},
   "source": [
    "In NumPy, broadcasting allows us to perform operations on arrays of different shapes without reshaping any arrays.\n",
    "\n",
    "<img src=\"broadcasting.png\" height=400 width=400/>"
   ]
  },
  {
   "cell_type": "markdown",
   "id": "62e729f3",
   "metadata": {},
   "source": [
    "Let's imagine we have two 2D arrays of different shapes, A and B."
   ]
  },
  {
   "cell_type": "code",
   "execution_count": 17,
   "id": "b39e02ef",
   "metadata": {},
   "outputs": [
    {
     "data": {
      "text/plain": [
       "((2, 3), (3,))"
      ]
     },
     "execution_count": 17,
     "metadata": {},
     "output_type": "execute_result"
    }
   ],
   "source": [
    "# A is a 2D array with shape (2, 3)\n",
    "A = [[1, 2, 3],\n",
    "     [4, 5, 6]]\n",
    "\n",
    "# B is a 1D array with shape (3, )\n",
    "B =  [7, 8, 9]\n",
    "\n",
    "# (Converting A and B to numpy arrays)\n",
    "A = np.array(A)\n",
    "B = np.array(B)\n",
    "\n",
    "# Array A and B's shape\n",
    "A.shape, B.shape"
   ]
  },
  {
   "cell_type": "markdown",
   "id": "a71b70a9",
   "metadata": {},
   "source": [
    "- Normally, we wouldn't be able to perform arithmetic operations on these arrays because their shapes don't match. \n",
    "- However, broadcasting allows us to treat them as if they were the same shape.\n",
    "\n"
   ]
  },
  {
   "cell_type": "code",
   "execution_count": 19,
   "id": "6e4c4028",
   "metadata": {},
   "outputs": [
    {
     "data": {
      "text/plain": [
       "array([[ 8, 10, 12],\n",
       "       [11, 13, 15]])"
      ]
     },
     "execution_count": 19,
     "metadata": {},
     "output_type": "execute_result"
    }
   ],
   "source": [
    "# As we can see, despite A and B not having the same shape, a result was still derived.\n",
    "A + B"
   ]
  },
  {
   "cell_type": "markdown",
   "id": "dfb9425d",
   "metadata": {},
   "source": [
    "As NumPy does broadcasting behind the scenes, let us see a visual representation of what happens when an array is broadcasted."
   ]
  },
  {
   "cell_type": "markdown",
   "id": "c2380db8",
   "metadata": {},
   "source": [
    "At the moment, this is what array A and B look like in matrix form. <b>Array A</b> has a shape of (2, 3) while <b>Array B</b> has a shape of (1, 3)\n",
    "\n",
    "<img src=\"AnB.png\" height=400 width=300>"
   ]
  },
  {
   "cell_type": "markdown",
   "id": "44d87613",
   "metadata": {},
   "source": [
    "When we perform an arithmetic operation involving A and B, such as addition, broadcasting would automatically replicate Array B along the first dimension, making it a 2x3 matrix to match the shape of Array A.\n",
    "\n",
    "<img src=\"Brepli.png\" height=300 width=200/>\n",
    "\n",
    "We can imagine <b>Array B</b> to now have a matching shape of (2, 3), after broadcasting."
   ]
  },
  {
   "cell_type": "markdown",
   "id": "23b19679",
   "metadata": {},
   "source": [
    "Hence, it is why we can perform arithmetic operations as per usual, despite array A and B not having the same shape. Because NumPy \"broadcasts\" Array B along the first dimension, making it a 2x3 matrix to match the shape of Array A.\n",
    "\n",
    "<img src=\"aplusb.png\" height=400 width=400/>"
   ]
  },
  {
   "cell_type": "code",
   "execution_count": null,
   "id": "22a6533d",
   "metadata": {},
   "outputs": [],
   "source": []
  }
 ],
 "metadata": {
  "kernelspec": {
   "display_name": "Python 3 (ipykernel)",
   "language": "python",
   "name": "python3"
  },
  "language_info": {
   "codemirror_mode": {
    "name": "ipython",
    "version": 3
   },
   "file_extension": ".py",
   "mimetype": "text/x-python",
   "name": "python",
   "nbconvert_exporter": "python",
   "pygments_lexer": "ipython3",
   "version": "3.9.7"
  }
 },
 "nbformat": 4,
 "nbformat_minor": 5
}
