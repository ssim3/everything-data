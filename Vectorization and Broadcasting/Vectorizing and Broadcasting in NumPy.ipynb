{
 "cells": [
  {
   "cell_type": "markdown",
   "id": "9ae25b3e",
   "metadata": {},
   "source": [
    "<img src=\"../everything data.png\" width=\"1728\" height=\"864\"/>"
   ]
  },
  {
   "cell_type": "markdown",
   "id": "f1df14bf",
   "metadata": {},
   "source": [
    "<h1><center>Vectorizing and Broadcasting in NumPy</center></h1>"
   ]
  },
  {
   "cell_type": "markdown",
   "id": "4af288c5",
   "metadata": {},
   "source": [
    "<h3><center>Tristan Sim</center></h3>\n",
    "<h4><center>26/6/2023</center></h4>"
   ]
  },
  {
   "cell_type": "markdown",
   "id": "187a473e",
   "metadata": {},
   "source": [
    "I recently completed Datacamp's <a href=\"\">Introduction to NumPy course</a>, through which I discovered an interesting topic within the subject, Vectorizing operations and Broadcasting. This mini notebook aims to to solidify my understanding on the topic, and hopefully in doing so, explain to those reading what Vectorizing and Broadcasting are, and why they are so powerful."
   ]
  },
  {
   "cell_type": "markdown",
   "id": "e6039ff2",
   "metadata": {},
   "source": [
    "## Vectorizing"
   ]
  },
  {
   "cell_type": "markdown",
   "id": "20de7eaa",
   "metadata": {},
   "source": [
    "- Vectorization refers to the process of performing operations on entire arrays or matrices, rather than looping through individual elements like traditional python would. \n",
    "\n",
    "<center><img src=\"images/vectorization.png\" width=300 height=500/></center>\n",
    "\n",
    "- The efficiency and speed of performing operations with Vectorization leverages on the optimized C-based implementation of NumPy to efficiently execute computations, resulting in faster and more concise code.\n"
   ]
  },
  {
   "cell_type": "markdown",
   "id": "f0e53972",
   "metadata": {},
   "source": [
    "The code below will illustrate the concept of vectorization:"
   ]
  },
  {
   "cell_type": "code",
   "execution_count": 4,
   "id": "62477094",
   "metadata": {},
   "outputs": [],
   "source": [
    "import numpy as np"
   ]
  },
  {
   "cell_type": "markdown",
   "id": "9a9dd016",
   "metadata": {},
   "source": [
    "### The problem: "
   ]
  },
  {
   "cell_type": "markdown",
   "id": "877bf861",
   "metadata": {},
   "source": [
    "Assume we want to add each element of an array with it's corresponding element in another array. In python, it would look like this: "
   ]
  },
  {
   "cell_type": "code",
   "execution_count": 7,
   "id": "35e272bc",
   "metadata": {},
   "outputs": [
    {
     "name": "stdout",
     "output_type": "stream",
     "text": [
      "[ 6  8 10 12]\n"
     ]
    }
   ],
   "source": [
    "# We want to add each element in array_one with it's corresponding element in array_two (1 + 5, 2 + 6, 3 + 7, 4 + 8)\n",
    "array_one = np.array([1, 2, 3, 4])\n",
    "array_two = np.array([5, 6, 7, 8])\n",
    "\n",
    "# First, we have to create a copy of array_one.\n",
    "array_sum = np.copy(array_one)\n",
    "\n",
    "# Then, we loop through the length array_sum, and use the index to access the elements of array_two\n",
    "for i in range(len(array_sum)):\n",
    "    # Lastly, we add the value of the element of array_two, into array_sum at the same index.\n",
    "    array_sum[i] += array_two[i]\n",
    "    \n",
    "\n",
    "print(array_sum)  # Output: [6 8 10 12]"
   ]
  },
  {
   "cell_type": "markdown",
   "id": "87a5eb8f",
   "metadata": {},
   "source": [
    "- For a relatively simple task, it took several lines of code.\n",
    "- Furthermore, looping through each element and performing addition individually is inefficient and slow."
   ]
  },
  {
   "cell_type": "markdown",
   "id": "1ea28189",
   "metadata": {},
   "source": [
    "### The solution: "
   ]
  },
  {
   "cell_type": "markdown",
   "id": "363f9114",
   "metadata": {},
   "source": [
    "To solve this issue, we leverage the optimized low-level implementations in NumPy, typically written in C, which can perform the addition operation on entire arrays in a highly efficient manner."
   ]
  },
  {
   "cell_type": "code",
   "execution_count": 8,
   "id": "4391113b",
   "metadata": {},
   "outputs": [
    {
     "name": "stdout",
     "output_type": "stream",
     "text": [
      "[ 6  8 10 12]\n"
     ]
    }
   ],
   "source": [
    "# As simple as one line, we recreated what we did previously in Python.\n",
    "print(array_one + array_two)"
   ]
  },
  {
   "cell_type": "markdown",
   "id": "ebb590ee",
   "metadata": {},
   "source": [
    "You can see how much more readable our code became after utilizing Vectorized Operations. Moreover, the increased efficiency vectorized operators showcase is another reason to leverage NumPy."
   ]
  },
  {
   "cell_type": "markdown",
   "id": "bbdbedd1",
   "metadata": {},
   "source": [
    "## Broadcasting"
   ]
  },
  {
   "cell_type": "markdown",
   "id": "855d5d4c",
   "metadata": {},
   "source": [
    "As shown in Vectorization, arithmetic operations on arrays are usually done on corresponding elements \n",
    "\n",
    "<h3><center>$ \n",
    "A([1, 2, 3]) + B([1, 2, 3]) = [(A_1 + B_1) , (A_2 + B_2) , (A_3 + B_3)]\n",
    "$</center></h3>\n",
    "\n",
    "What if these arrays have different shapes? That's where Broadcasting comes in."
   ]
  },
  {
   "cell_type": "markdown",
   "id": "83ac95d7",
   "metadata": {},
   "source": [
    "### How it works:"
   ]
  },
  {
   "cell_type": "markdown",
   "id": "1cefef27",
   "metadata": {},
   "source": [
    "In NumPy, broadcasting allows us to perform operations on arrays of different shapes without reshaping any arrays.\n",
    "\n",
    "<img src=\"images/broadcasting.png\" height=400 width=400/>"
   ]
  },
  {
   "cell_type": "markdown",
   "id": "dd037599",
   "metadata": {},
   "source": [
    "Let's imagine we have two 2D arrays of different shapes, A and B."
   ]
  },
  {
   "cell_type": "code",
   "execution_count": 17,
   "id": "777d9fe6",
   "metadata": {},
   "outputs": [
    {
     "data": {
      "text/plain": [
       "((2, 3), (3,))"
      ]
     },
     "execution_count": 17,
     "metadata": {},
     "output_type": "execute_result"
    }
   ],
   "source": [
    "# A is a 2D array with shape (2, 3)\n",
    "A = [[1, 2, 3],\n",
    "     [4, 5, 6]]\n",
    "\n",
    "# B is a 1D array with shape (3, )\n",
    "B =  [7, 8, 9]\n",
    "\n",
    "# (Converting A and B to numpy arrays)\n",
    "A = np.array(A)\n",
    "B = np.array(B)\n",
    "\n",
    "# Array A and B's shape\n",
    "A.shape, B.shape"
   ]
  },
  {
   "cell_type": "markdown",
   "id": "e0fd3977",
   "metadata": {},
   "source": [
    "- Normally, we wouldn't be able to perform arithmetic operations on these arrays because their shapes don't match. \n",
    "- However, broadcasting allows us to treat them as if they were the same shape.\n"
   ]
  },
  {
   "cell_type": "code",
   "execution_count": 21,
   "id": "a9598e5a",
   "metadata": {},
   "outputs": [
    {
     "data": {
      "text/plain": [
       "array([[ 8, 10, 12],\n",
       "       [11, 13, 15]])"
      ]
     },
     "execution_count": 21,
     "metadata": {},
     "output_type": "execute_result"
    }
   ],
   "source": [
    "# As we can see, despite A and B not having the same shape, a result was still derived.\n",
    "# Why is this so?\n",
    "A + B"
   ]
  },
  {
   "cell_type": "markdown",
   "id": "864255f9",
   "metadata": {},
   "source": [
    "To explain what Broadcasting actually is, let us visualize what happens when an array is broadcasted."
   ]
  },
  {
   "cell_type": "markdown",
   "id": "db8cc46c",
   "metadata": {},
   "source": [
    "At the moment, this is what array A and B look like in matrix form. <b>Array A</b> has a shape of (2, 3) while <b>Array B</b> has a shape of (1, 3)\n",
    "\n",
    "<img src=\"images/AnB.png\" height=400 width=300>"
   ]
  },
  {
   "cell_type": "markdown",
   "id": "7e31699b",
   "metadata": {},
   "source": [
    "When we perform an arithmetic operation involving A and B, such as addition, broadcasting would automatically replicate Array B along the first dimension, making it a 2x3 matrix to match the shape of Array A.\n",
    "\n",
    "<img src=\"images/Brepli.png\" height=300 width=200/>\n",
    "\n",
    "We can imagine <b>Array B</b> to now have a matching shape of (2, 3), after broadcasting."
   ]
  },
  {
   "cell_type": "markdown",
   "id": "f9efce22",
   "metadata": {},
   "source": [
    "Hence, it is why we can perform arithmetic operations as per usual, despite array A and B not having the same shape. Because NumPy \"broadcasts\" Array B along the first dimension, making it a 2x3 matrix to match the shape of Array A.\n",
    "\n",
    "<img src=\"aplusb.png\" height=400 width=400/>"
   ]
  },
  {
   "cell_type": "markdown",
   "id": "a47d3824",
   "metadata": {},
   "source": [
    "# References\n",
    "\n",
    "1. <a href=\"https://www.google.com/url?sa=i&url=https%3A%2F%2Fdatascience.blog.wzb.eu%2F2018%2F02%2F02%2Fvectorization-and-parallelization-in-python-with-numpy-and-pandas%2F&psig=AOvVaw3IpyLMb0aAiGfhiHVryUHq&ust=1687883366538000&source=images&cd=vfe&ved=0CBMQjhxqFwoTCLiZ8tWt4f8CFQAAAAAdAAAAABAJ\">Vectorization and parallelization in Python with NumPy and Pandas | WZB Data Science Blog</a> \n",
    "2. <a href=\"https://www.google.com/url?sa=i&url=https%3A%2F%2Ftowardsdatascience.com%2Fbroadcasting-in-numpy-58856f926d73&psig=AOvVaw3q8UzARYizaKkz9Exv9ifN&ust=1687881558113000&source=images&cd=vfe&ved=0CBMQjhxqFwoTCNC1v_em4f8CFQAAAAAdAAAAABA2\">Broadcasting in NumPy | by Lex Maximov</a>"
   ]
  },
  {
   "cell_type": "code",
   "execution_count": null,
   "id": "dc854314",
   "metadata": {},
   "outputs": [],
   "source": []
  }
 ],
 "metadata": {
  "kernelspec": {
   "display_name": "Python 3 (ipykernel)",
   "language": "python",
   "name": "python3"
  },
  "language_info": {
   "codemirror_mode": {
    "name": "ipython",
    "version": 3
   },
   "file_extension": ".py",
   "mimetype": "text/x-python",
   "name": "python",
   "nbconvert_exporter": "python",
   "pygments_lexer": "ipython3",
   "version": "3.9.7"
  }
 },
 "nbformat": 4,
 "nbformat_minor": 5
}
