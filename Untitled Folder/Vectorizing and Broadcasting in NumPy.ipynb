{
 "cells": [
  {
   "attachments": {},
   "cell_type": "markdown",
   "id": "16f28bca",
   "metadata": {},
   "source": [
    "<img src=\"../everything data.png\" width=\"1728\" height=\"864\"/>"
   ]
  },
  {
   "cell_type": "markdown",
   "id": "380bbf09",
   "metadata": {},
   "source": [
    "<h1><center>Vectorizing and Broadcasting in NumPy</center></h1>"
   ]
  },
  {
   "cell_type": "markdown",
   "id": "ecf5383d",
   "metadata": {},
   "source": [
    "<h3><center>Tristan Sim</center></h3>\n",
    "<h4><center>26/6/2023</center></h4>"
   ]
  },
  {
   "cell_type": "markdown",
   "id": "e64f7d09",
   "metadata": {},
   "source": [
    "I recently completed Datacamp's <a href=\"\">Introduction to NumPy course</a>, through which I discovered an interesting topic within the subject, Vectorizing operations and Broadcasting. This mini notebook aims to to solidify my understanding on the topic, and hopefully in doing so, explain to those reading what Vectorizing and Broadcasting are, and why they are so powerful."
   ]
  },
  {
   "cell_type": "markdown",
   "id": "4f421702",
   "metadata": {},
   "source": [
    "## Vectorizing"
   ]
  },
  {
   "cell_type": "markdown",
   "id": "6a680c6e",
   "metadata": {},
   "source": [
    "- Vectorization refers to the process of performing operations on entire arrays or matrices, rather than looping through individual elements like traditional python would. \n",
    "\n",
    "<center><img src=\"vectorization.png\" width=300 height=500/></center>\n",
    "\n",
    "- The efficiency and speed of performing operations with Vectorization leverages on the optimized C-based implementation of NumPy to efficiently execute computations, resulting in faster and more concise code.\n"
   ]
  },
  {
   "cell_type": "markdown",
   "id": "a5a37465",
   "metadata": {},
   "source": [
    "The code below will illustrate the concept of vectorization:"
   ]
  },
  {
   "cell_type": "code",
   "execution_count": 4,
   "id": "71be8611",
   "metadata": {},
   "outputs": [],
   "source": [
    "import numpy as np"
   ]
  },
  {
   "cell_type": "markdown",
   "id": "33113942",
   "metadata": {},
   "source": [
    "### The problem: "
   ]
  },
  {
   "cell_type": "markdown",
   "id": "eb990de0",
   "metadata": {},
   "source": [
    "Assume we want to add each element of an array with it's corresponding element in another array. In python, it would look like this: "
   ]
  },
  {
   "cell_type": "code",
   "execution_count": 7,
   "id": "5d28621e",
   "metadata": {},
   "outputs": [
    {
     "name": "stdout",
     "output_type": "stream",
     "text": [
      "[ 6  8 10 12]\n"
     ]
    }
   ],
   "source": [
    "# We want to add each element in array_one with it's corresponding element in array_two (1 + 5, 2 + 6, 3 + 7, 4 + 8)\n",
    "array_one = np.array([1, 2, 3, 4])\n",
    "array_two = np.array([5, 6, 7, 8])\n",
    "\n",
    "# First, we have to create a copy of array_one.\n",
    "array_sum = np.copy(array_one)\n",
    "\n",
    "# Then, we loop through the length array_sum, and use the index to access the elements of array_two\n",
    "for i in range(len(array_sum)):\n",
    "    # Lastly, we add the value of the element of array_two, into array_sum at the same index.\n",
    "    array_sum[i] += array_two[i]\n",
    "    \n",
    "\n",
    "print(array_sum)  # Output: [6 8 10 12]"
   ]
  },
  {
   "cell_type": "markdown",
   "id": "527b25fa",
   "metadata": {},
   "source": [
    "- For a relatively simple task, it took several lines of code.\n",
    "- Furthermore, looping through each element and performing addition individually is inefficient and slow."
   ]
  },
  {
   "cell_type": "markdown",
   "id": "a81c1221",
   "metadata": {},
   "source": [
    "### The solution: "
   ]
  },
  {
   "cell_type": "markdown",
   "id": "1da88fc2",
   "metadata": {},
   "source": [
    "To solve this issue, we leverage the optimized low-level implementations in NumPy, typically written in C, which can perform the addition operation on entire arrays in a highly efficient manner."
   ]
  },
  {
   "cell_type": "code",
   "execution_count": 8,
   "id": "9b32c9c7",
   "metadata": {},
   "outputs": [
    {
     "name": "stdout",
     "output_type": "stream",
     "text": [
      "[ 6  8 10 12]\n"
     ]
    }
   ],
   "source": [
    "# As simple as one line, we recreated what we did previously in Python.\n",
    "print(array_one + array_two)"
   ]
  },
  {
   "cell_type": "markdown",
   "id": "22665ac3",
   "metadata": {},
   "source": [
    "You can see how much more readable our code became after utilizing Vectorized Operations. Moreover, the increased efficiency vectorized operators showcase is another reason to leverage NumPy."
   ]
  },
  {
   "cell_type": "markdown",
   "id": "4f30d72b",
   "metadata": {},
   "source": [
    "## Broadcasting"
   ]
  },
  {
   "cell_type": "markdown",
   "id": "f7a44921",
   "metadata": {},
   "source": [
    "As shown in Vectorization, arithmetic operations on arrays are usually done on corresponding elements \n",
    "\n",
    "<h3><center>$ \n",
    "A([1, 2, 3]) + B([1, 2, 3]) = [(A_1 + B_1) , (A_2 + B_2) , (A_3 + B_3)]\n",
    "$</center></h3>\n",
    "\n",
    "What if these arrays have different shapes? That's where Broadcasting comes in."
   ]
  },
  {
   "cell_type": "markdown",
   "id": "d79b4bdc",
   "metadata": {},
   "source": [
    "### How it works:"
   ]
  },
  {
   "attachments": {},
   "cell_type": "markdown",
   "id": "41869471",
   "metadata": {},
   "source": [
    "In NumPy, broadcasting allows us to perform operations on arrays of different shapes without reshaping any arrays.\n",
    "\n",
    "<img src=\"broadcasting.png\" height=400 width=400/>"
   ]
  },
  {
   "cell_type": "markdown",
   "id": "aedf6932",
   "metadata": {},
   "source": [
    "Let's imagine we have two 2D arrays of different shapes, A and B."
   ]
  },
  {
   "cell_type": "code",
   "execution_count": 17,
   "id": "11d65706",
   "metadata": {},
   "outputs": [
    {
     "data": {
      "text/plain": [
       "((2, 3), (3,))"
      ]
     },
     "execution_count": 17,
     "metadata": {},
     "output_type": "execute_result"
    }
   ],
   "source": [
    "# A is a 2D array with shape (2, 3)\n",
    "A = [[1, 2, 3],\n",
    "     [4, 5, 6]]\n",
    "\n",
    "# B is a 1D array with shape (3, )\n",
    "B =  [7, 8, 9]\n",
    "\n",
    "# (Converting A and B to numpy arrays)\n",
    "A = np.array(A)\n",
    "B = np.array(B)\n",
    "\n",
    "# Array A and B's shape\n",
    "A.shape, B.shape"
   ]
  },
  {
   "cell_type": "markdown",
   "id": "05ffe78f",
   "metadata": {},
   "source": [
    "- Normally, we wouldn't be able to perform arithmetic operations on these arrays because their shapes don't match. \n",
    "- However, broadcasting allows us to treat them as if they were the same shape.\n",
    "\n"
   ]
  },
  {
   "cell_type": "markdown",
   "id": "2d2cca7a",
   "metadata": {},
   "source": [
    "NumPy does broadcasting behind the scenes, hence let us see a visual representation of what happens when an array is broadcasted."
   ]
  },
  {
   "cell_type": "code",
   "execution_count": null,
   "id": "dc212b5a",
   "metadata": {},
   "outputs": [],
   "source": []
  }
 ],
 "metadata": {
  "kernelspec": {
   "display_name": "Python 3 (ipykernel)",
   "language": "python",
   "name": "python3"
  },
  "language_info": {
   "codemirror_mode": {
    "name": "ipython",
    "version": 3
   },
   "file_extension": ".py",
   "mimetype": "text/x-python",
   "name": "python",
   "nbconvert_exporter": "python",
   "pygments_lexer": "ipython3",
   "version": "3.9.7"
  }
 },
 "nbformat": 4,
 "nbformat_minor": 5
}
