{
 "cells": [
  {
   "attachments": {},
   "cell_type": "markdown",
   "id": "2d19f32b",
   "metadata": {},
   "source": [
    "<img src=\"../everything data.png\" width=\"1728\" height=\"864\"/>"
   ]
  },
  {
   "cell_type": "markdown",
   "id": "8c6c50a5",
   "metadata": {},
   "source": [
    "<h1><center>Vectorizing and Broadcasting in NumPy</center></h1>"
   ]
  },
  {
   "cell_type": "markdown",
   "id": "8dd78466",
   "metadata": {},
   "source": [
    "<h3><center>Tristan Sim</center></h3>\n",
    "<h4><center>26/6/2023</center></h4>"
   ]
  },
  {
   "cell_type": "markdown",
   "id": "85ea8e76",
   "metadata": {},
   "source": [
    "I recently completed Datacamp's <a href=\"\">Introduction to NumPy course</a>, through which I discovered an interesting topic within the subject, Vectorizing operations and Broadcasting. This mini notebook aims to to solidify my understanding on the topic, and hopefully in doing so, explain to those reading what Vectorizing and Broadcasting are, and why they are so powerful."
   ]
  },
  {
   "cell_type": "markdown",
   "id": "c1c4e8fd",
   "metadata": {},
   "source": [
    "## Vectorizing"
   ]
  },
  {
   "cell_type": "markdown",
   "id": "bf177c69",
   "metadata": {},
   "source": [
    "Vectorization refers to the process of performing operations on entire arrays or matrices, rather than looping through individual elements like traditional python would. \n",
    "\n",
    "The efficiency and speed of performing operations with Vectorization leverages on the optimized C-based implementation of NumPy to efficiently execute computations, resulting in faster and more concise code.\n"
   ]
  },
  {
   "cell_type": "markdown",
   "id": "676bc9ab",
   "metadata": {},
   "source": [
    "## Broadcasting"
   ]
  },
  {
   "cell_type": "code",
   "execution_count": null,
   "id": "0efcc368",
   "metadata": {},
   "outputs": [],
   "source": []
  }
 ],
 "metadata": {
  "kernelspec": {
   "display_name": "Python 3 (ipykernel)",
   "language": "python",
   "name": "python3"
  },
  "language_info": {
   "codemirror_mode": {
    "name": "ipython",
    "version": 3
   },
   "file_extension": ".py",
   "mimetype": "text/x-python",
   "name": "python",
   "nbconvert_exporter": "python",
   "pygments_lexer": "ipython3",
   "version": "3.9.7"
  }
 },
 "nbformat": 4,
 "nbformat_minor": 5
}
