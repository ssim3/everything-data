{
 "cells": [
  {
   "attachments": {},
   "cell_type": "markdown",
   "id": "c72ad318",
   "metadata": {},
   "source": [
    "<img src=\"../everything data.png\" width=\"1728\" height=\"864\"/>"
   ]
  },
  {
   "cell_type": "markdown",
   "id": "17fe1480",
   "metadata": {},
   "source": [
    "<h1><center>Vectorizing and Broadcasting in NumPy</center></h1>"
   ]
  },
  {
   "cell_type": "markdown",
   "id": "79b42814",
   "metadata": {},
   "source": [
    "<h3><center>Tristan Sim</center></h3>\n",
    "<h4><center>26/6/2023</center></h4>"
   ]
  },
  {
   "cell_type": "markdown",
   "id": "87d7685c",
   "metadata": {},
   "source": [
    "I recently completed Datacamp's <a href=\"\">Introduction to NumPy course</a>, through which I discovered an interesting topic within the subject, Vectorizing operations and Broadcasting. This mini notebook aims to to solidify my understanding on the topic, and hopefully in doing so, explain to those reading what Vectorizing and Broadcasting are, and why they are so powerful."
   ]
  },
  {
   "cell_type": "markdown",
   "id": "1c0f6c3d",
   "metadata": {},
   "source": [
    "## Vectorizing"
   ]
  },
  {
   "cell_type": "markdown",
   "id": "ac29e56b",
   "metadata": {},
   "source": [
    "- Vectorization refers to the process of performing operations on entire arrays or matrices, rather than looping through individual elements like traditional python would. \n",
    "\n",
    "<center><img src=\"vectorization.png\" width=300 height=500/></center>\n",
    "\n",
    "- The efficiency and speed of performing operations with Vectorization leverages on the optimized C-based implementation of NumPy to efficiently execute computations, resulting in faster and more concise code.\n"
   ]
  },
  {
   "cell_type": "markdown",
   "id": "0e3d2b93",
   "metadata": {},
   "source": [
    "The code below will illustrate the concept of vectorization:"
   ]
  },
  {
   "cell_type": "code",
   "execution_count": 4,
   "id": "8a4c5d91",
   "metadata": {},
   "outputs": [],
   "source": [
    "import numpy as np"
   ]
  },
  {
   "cell_type": "markdown",
   "id": "275ca6a2",
   "metadata": {},
   "source": [
    "### The problem: "
   ]
  },
  {
   "cell_type": "markdown",
   "id": "09abac37",
   "metadata": {},
   "source": [
    "Assume we want to add each element of an array with it's corresponding element in another array. In python, it would look like this: "
   ]
  },
  {
   "cell_type": "code",
   "execution_count": 7,
   "id": "4d842c10",
   "metadata": {},
   "outputs": [
    {
     "name": "stdout",
     "output_type": "stream",
     "text": [
      "[ 6  8 10 12]\n"
     ]
    }
   ],
   "source": [
    "# We want to add each element in array_one with it's corresponding element in array_two (1 + 5, 2 + 6, 3 + 7, 4 + 8)\n",
    "array_one = np.array([1, 2, 3, 4])\n",
    "array_two = np.array([5, 6, 7, 8])\n",
    "\n",
    "# First, we have to create a copy of array_one.\n",
    "array_sum = np.copy(array_one)\n",
    "\n",
    "# Then, we loop through the length array_sum, and use the index to access the elements of array_two\n",
    "for i in range(len(array_sum)):\n",
    "    # Lastly, we add the value of the element of array_two, into array_sum at the same index.\n",
    "    array_sum[i] += array_two[i]\n",
    "    \n",
    "\n",
    "print(array_sum)  # Output: [6 8 10 12]"
   ]
  },
  {
   "cell_type": "markdown",
   "id": "a9d60cda",
   "metadata": {},
   "source": [
    "- For a relatively simple task, it took several lines of code.\n",
    "- Furthermore, looping through each element and performing addition individually is inefficient and slow."
   ]
  },
  {
   "cell_type": "markdown",
   "id": "2d5d3ccd",
   "metadata": {},
   "source": [
    "### The solution: "
   ]
  },
  {
   "cell_type": "markdown",
   "id": "c3418928",
   "metadata": {},
   "source": [
    "To solve this issue, we leverage the optimized low-level implementations in NumPy, typically written in C, which can perform the addition operation on entire arrays in a highly efficient manner."
   ]
  },
  {
   "cell_type": "code",
   "execution_count": 8,
   "id": "e0002308",
   "metadata": {},
   "outputs": [
    {
     "name": "stdout",
     "output_type": "stream",
     "text": [
      "[ 6  8 10 12]\n"
     ]
    }
   ],
   "source": [
    "# As simple as one line, we recreated what we did previously in Python.\n",
    "print(array_one + array_two)"
   ]
  },
  {
   "cell_type": "markdown",
   "id": "b93321ac",
   "metadata": {},
   "source": [
    "You can see how much more readable our code became after utilizing Vectorized Operations. Moreover, the increased efficiency vectorized operators showcase is another reason to leverage NumPy's "
   ]
  },
  {
   "cell_type": "markdown",
   "id": "f102bdac",
   "metadata": {},
   "source": [
    "## Broadcasting"
   ]
  },
  {
   "cell_type": "code",
   "execution_count": null,
   "id": "d8abfaf4",
   "metadata": {},
   "outputs": [],
   "source": []
  }
 ],
 "metadata": {
  "kernelspec": {
   "display_name": "Python 3 (ipykernel)",
   "language": "python",
   "name": "python3"
  },
  "language_info": {
   "codemirror_mode": {
    "name": "ipython",
    "version": 3
   },
   "file_extension": ".py",
   "mimetype": "text/x-python",
   "name": "python",
   "nbconvert_exporter": "python",
   "pygments_lexer": "ipython3",
   "version": "3.9.7"
  }
 },
 "nbformat": 4,
 "nbformat_minor": 5
}
